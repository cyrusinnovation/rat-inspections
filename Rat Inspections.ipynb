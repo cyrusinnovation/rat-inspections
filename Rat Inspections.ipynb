{
 "metadata": {
  "name": "",
  "signature": "sha256:84dc12e9116687808de06c20a792922f29063ddae2584d73ac9198e87dabe22a"
 },
 "nbformat": 3,
 "nbformat_minor": 0,
 "worksheets": [
  {
   "cells": [
    {
     "cell_type": "code",
     "collapsed": false,
     "input": [
      "%pylab inline\n",
      "import pandas as pd\n",
      "import numpy as np\n",
      "import geojson as gj\n",
      "import matplotlib.pyplot as plt"
     ],
     "language": "python",
     "metadata": {},
     "outputs": [
      {
       "output_type": "stream",
       "stream": "stdout",
       "text": [
        "Populating the interactive namespace from numpy and matplotlib\n"
       ]
      }
     ],
     "prompt_number": 129
    },
    {
     "cell_type": "code",
     "collapsed": false,
     "input": [
      "activity_cutoff = 5"
     ],
     "language": "python",
     "metadata": {},
     "outputs": [],
     "prompt_number": 130
    },
    {
     "cell_type": "code",
     "collapsed": false,
     "input": [
      "inspections = pd.read_csv('RIP_FOIL_11_4_2014_update.csv')"
     ],
     "language": "python",
     "metadata": {},
     "outputs": [],
     "prompt_number": 131
    },
    {
     "cell_type": "code",
     "collapsed": false,
     "input": [
      "inspections['INSP_DATE'] = pd.to_datetime(inspections['INSP_DATE'])"
     ],
     "language": "python",
     "metadata": {},
     "outputs": [],
     "prompt_number": 132
    },
    {
     "cell_type": "code",
     "collapsed": false,
     "input": [
      "inspections['APPROVED_DATE'] = pd.to_datetime(inspections['APPROVED_DATE'])"
     ],
     "language": "python",
     "metadata": {},
     "outputs": [],
     "prompt_number": 133
    },
    {
     "cell_type": "code",
     "collapsed": false,
     "input": [
      "inspections['BOROUGH'] = inspections['BOROUGH'].astype(\"category\")"
     ],
     "language": "python",
     "metadata": {},
     "outputs": [],
     "prompt_number": 134
    },
    {
     "cell_type": "code",
     "collapsed": false,
     "input": [
      "inspections['BOROUGH'] = inspections['BOROUGH'].cat.set_categories(['Manhattan','Brooklyn','Queens','Bronx','Staten Island'])"
     ],
     "language": "python",
     "metadata": {},
     "outputs": [],
     "prompt_number": 135
    },
    {
     "cell_type": "code",
     "collapsed": false,
     "input": [
      "inspections.groupby('BOROUGH').size()"
     ],
     "language": "python",
     "metadata": {},
     "outputs": [
      {
       "metadata": {},
       "output_type": "pyout",
       "prompt_number": 136,
       "text": [
        "BOROUGH\n",
        "Manhattan        210206\n",
        "Brooklyn         138416\n",
        "Queens            78938\n",
        "Bronx            207816\n",
        "Staten Island     26121\n",
        "dtype: int64"
       ]
      }
     ],
     "prompt_number": 136
    },
    {
     "cell_type": "code",
     "collapsed": false,
     "input": [
      "def selectAndAnnotateActiveFeatures(geojson, bbls_dict):\n",
      "    \"\"\"Searches the geojson object for the given BBLs in the dict and when it finds them, add the ActiveCount property and put it into a list for return \"\"\"\n",
      "    active_features = []\n",
      "    for feature in geojson.features:\n",
      "        bbl = int(feature.properties['BBL'])\n",
      "        if bbl in bbls_dict:\n",
      "            feature.properties['ActiveCount'] = bbls_dict[bbl]\n",
      "            active_features.append(feature)\n",
      "    return active_features"
     ],
     "language": "python",
     "metadata": {},
     "outputs": [],
     "prompt_number": 137
    },
    {
     "cell_type": "code",
     "collapsed": false,
     "input": [
      "active_inspections = inspections[inspections['RESULT'].isin(['Active Rat Signs']) & inspections['BLOCK'].notnull()]"
     ],
     "language": "python",
     "metadata": {},
     "outputs": [],
     "prompt_number": 138
    },
    {
     "cell_type": "code",
     "collapsed": false,
     "input": [
      "active_bbls = active_inspections.BBL.value_counts()"
     ],
     "language": "python",
     "metadata": {},
     "outputs": [],
     "prompt_number": 139
    },
    {
     "cell_type": "code",
     "collapsed": false,
     "input": [
      "most_active_bbls = active_bbls[active_bbls >= activity_cutoff]"
     ],
     "language": "python",
     "metadata": {},
     "outputs": [],
     "prompt_number": 140
    },
    {
     "cell_type": "code",
     "collapsed": false,
     "input": [
      "most_active_inspections = active_inspections[inspections['BBL'].isin(most_active_bbls.index)].sort(columns=['BBL','INSP_DATE'])"
     ],
     "language": "python",
     "metadata": {},
     "outputs": [],
     "prompt_number": 141
    },
    {
     "cell_type": "code",
     "collapsed": false,
     "input": [
      "def time_range (x):\n",
      "    return x.max() - x.min()"
     ],
     "language": "python",
     "metadata": {},
     "outputs": [],
     "prompt_number": 142
    },
    {
     "cell_type": "code",
     "collapsed": false,
     "input": [
      "variance_by_bbl = most_active_inspections.groupby('BBL')['INSP_DATE'].apply(time_range)"
     ],
     "language": "python",
     "metadata": {},
     "outputs": [],
     "prompt_number": 143
    },
    {
     "cell_type": "code",
     "collapsed": false,
     "input": [
      "long_term_active_bbls = variance_by_bbl[variance_by_bbl > np.timedelta64(1, 'Y')]"
     ],
     "language": "python",
     "metadata": {},
     "outputs": [],
     "prompt_number": 144
    },
    {
     "cell_type": "code",
     "collapsed": false,
     "input": [
      "long_term_active_inspections = inspections[inspections['BBL'].isin(long_term_active_bbls.index)].sort(columns=['BBL','INSP_DATE'])"
     ],
     "language": "python",
     "metadata": {},
     "outputs": [],
     "prompt_number": 145
    },
    {
     "cell_type": "code",
     "collapsed": false,
     "input": [
      "bbl_active_inspection_count = long_term_active_inspections[long_term_active_inspections['RESULT'].isin(['Active Rat Signs']) & long_term_active_inspections['BLOCK'].notnull()].BBL.value_counts()"
     ],
     "language": "python",
     "metadata": {},
     "outputs": [],
     "prompt_number": 146
    },
    {
     "cell_type": "code",
     "collapsed": false,
     "input": [
      "variance_by_bbl[variance_by_bbl.index==4034910067]"
     ],
     "language": "python",
     "metadata": {},
     "outputs": [
      {
       "metadata": {},
       "output_type": "pyout",
       "prompt_number": 147,
       "text": [
        "BBL\n",
        "4034910067   147 days\n",
        "Name: INSP_DATE, dtype: timedelta64[ns]"
       ]
      }
     ],
     "prompt_number": 147
    },
    {
     "cell_type": "code",
     "collapsed": false,
     "input": [
      "long_term_active_inspections[long_term_active_inspections['BBL'] == 4034910067 ]"
     ],
     "language": "python",
     "metadata": {},
     "outputs": [
      {
       "html": [
        "<div style=\"max-height:1000px;max-width:1500px;overflow:auto;\">\n",
        "<table border=\"1\" class=\"dataframe\">\n",
        "  <thead>\n",
        "    <tr style=\"text-align: right;\">\n",
        "      <th></th>\n",
        "      <th>JOB_ID</th>\n",
        "      <th>INSPECTION_TYPE</th>\n",
        "      <th>BBL</th>\n",
        "      <th>BOROCODE</th>\n",
        "      <th>BLOCK</th>\n",
        "      <th>LOT</th>\n",
        "      <th>BOROUGH</th>\n",
        "      <th>INSP_DATE</th>\n",
        "      <th>RESULT</th>\n",
        "      <th>APPROVED_DATE</th>\n",
        "    </tr>\n",
        "  </thead>\n",
        "  <tbody>\n",
        "  </tbody>\n",
        "</table>\n",
        "</div>"
       ],
       "metadata": {},
       "output_type": "pyout",
       "prompt_number": 148,
       "text": [
        "Empty DataFrame\n",
        "Columns: [JOB_ID, INSPECTION_TYPE, BBL, BOROCODE, BLOCK, LOT, BOROUGH, INSP_DATE, RESULT, APPROVED_DATE]\n",
        "Index: []"
       ]
      }
     ],
     "prompt_number": 148
    },
    {
     "cell_type": "code",
     "collapsed": false,
     "input": [
      "long_term_active_inspections.to_csv('inspections_for_most_active.csv',columns=['BBL','INSP_DATE','RESULT'],index=False,date_format=\"%Y-%m-%d\")"
     ],
     "language": "python",
     "metadata": {},
     "outputs": [],
     "prompt_number": 149
    },
    {
     "cell_type": "code",
     "collapsed": false,
     "input": [
      "most_active = inspections[inspections['BBL'].isin(most_active_bbls.index)].sort(columns=['BBL','INSP_DATE'])"
     ],
     "language": "python",
     "metadata": {},
     "outputs": [],
     "prompt_number": 150
    },
    {
     "cell_type": "code",
     "collapsed": false,
     "input": [
      "active_features = []"
     ],
     "language": "python",
     "metadata": {},
     "outputs": [],
     "prompt_number": 151
    },
    {
     "cell_type": "code",
     "collapsed": false,
     "input": [
      "geojson_files = ['map_data/manhattan.geojson','map_data/bronx.geojson','map_data/brooklyn.geojson','map_data/queens.geojson','map_data/staten_island.geojson']"
     ],
     "language": "python",
     "metadata": {},
     "outputs": [],
     "prompt_number": 152
    },
    {
     "cell_type": "code",
     "collapsed": false,
     "input": [
      "for file_name in geojson_files:\n",
      "    file_handle = open(file_name,'r')\n",
      "    geojson = gj.load(file_handle)\n",
      "    curr_active_features = selectAndAnnotateActiveFeatures(geojson, bbl_active_inspection_count)\n",
      "    print file_name + \": \" + str(len(curr_active_features))\n",
      "    active_features += curr_active_features\n",
      "    del geojson\n",
      "    file_handle.close()"
     ],
     "language": "python",
     "metadata": {},
     "outputs": [
      {
       "output_type": "stream",
       "stream": "stdout",
       "text": [
        "map_data/manhattan.geojson: 1369\n",
        "map_data/bronx.geojson: 2190"
       ]
      },
      {
       "output_type": "stream",
       "stream": "stdout",
       "text": [
        "\n",
        "map_data/brooklyn.geojson: 772"
       ]
      },
      {
       "output_type": "stream",
       "stream": "stdout",
       "text": [
        "\n",
        "map_data/queens.geojson: 135"
       ]
      },
      {
       "output_type": "stream",
       "stream": "stdout",
       "text": [
        "\n",
        "map_data/staten_island.geojson: 20"
       ]
      },
      {
       "output_type": "stream",
       "stream": "stdout",
       "text": [
        "\n"
       ]
      }
     ],
     "prompt_number": 153
    },
    {
     "cell_type": "code",
     "collapsed": false,
     "input": [
      "len(active_features)"
     ],
     "language": "python",
     "metadata": {},
     "outputs": [
      {
       "metadata": {},
       "output_type": "pyout",
       "prompt_number": 154,
       "text": [
        "4486"
       ]
      }
     ],
     "prompt_number": 154
    },
    {
     "cell_type": "code",
     "collapsed": false,
     "input": [
      "active = gj.FeatureCollection(active_features)"
     ],
     "language": "python",
     "metadata": {},
     "outputs": [],
     "prompt_number": 156
    },
    {
     "cell_type": "code",
     "collapsed": false,
     "input": [
      "active_file = open('most_active.geojson','w')"
     ],
     "language": "python",
     "metadata": {},
     "outputs": [],
     "prompt_number": 157
    },
    {
     "cell_type": "code",
     "collapsed": false,
     "input": [
      "gj.dump(active, active_file)"
     ],
     "language": "python",
     "metadata": {},
     "outputs": [],
     "prompt_number": 158
    },
    {
     "cell_type": "code",
     "collapsed": false,
     "input": [
      "active_file.close()"
     ],
     "language": "python",
     "metadata": {},
     "outputs": [],
     "prompt_number": 159
    },
    {
     "cell_type": "code",
     "collapsed": false,
     "input": [],
     "language": "python",
     "metadata": {},
     "outputs": [],
     "prompt_number": 159
    }
   ],
   "metadata": {}
  }
 ]
}