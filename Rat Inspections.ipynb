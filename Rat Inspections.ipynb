{
 "metadata": {
  "name": "",
  "signature": "sha256:7a7b1e1b560faa43765b4e3bc9487b7d894126d5f0cb0db6903d323bd56e1ed4"
 },
 "nbformat": 3,
 "nbformat_minor": 0,
 "worksheets": [
  {
   "cells": [
    {
     "cell_type": "code",
     "collapsed": false,
     "input": [
      "%pylab inline\n",
      "import pandas as pd\n",
      "import numpy as np\n",
      "import geojson as gj\n",
      "import matplotlib.pyplot as plt"
     ],
     "language": "python",
     "metadata": {},
     "outputs": [
      {
       "output_type": "stream",
       "stream": "stdout",
       "text": [
        "Populating the interactive namespace from numpy and matplotlib\n"
       ]
      }
     ],
     "prompt_number": 1
    },
    {
     "cell_type": "code",
     "collapsed": false,
     "input": [
      "activity_cutoff = 5"
     ],
     "language": "python",
     "metadata": {},
     "outputs": [],
     "prompt_number": 2
    },
    {
     "cell_type": "code",
     "collapsed": false,
     "input": [
      "data = pd.read_csv('RIP_FOIL_11_4_2014_update.csv')"
     ],
     "language": "python",
     "metadata": {},
     "outputs": [],
     "prompt_number": 3
    },
    {
     "cell_type": "code",
     "collapsed": false,
     "input": [
      "data['INSP_DATE'] = pd.to_datetime(data['INSP_DATE'])"
     ],
     "language": "python",
     "metadata": {},
     "outputs": [],
     "prompt_number": 4
    },
    {
     "cell_type": "code",
     "collapsed": false,
     "input": [
      "data['APPROVED_DATE'] = pd.to_datetime(data['APPROVED_DATE'])"
     ],
     "language": "python",
     "metadata": {},
     "outputs": [],
     "prompt_number": 5
    },
    {
     "cell_type": "code",
     "collapsed": false,
     "input": [
      "data['BOROUGH'] = data['BOROUGH'].astype(\"category\")"
     ],
     "language": "python",
     "metadata": {},
     "outputs": [],
     "prompt_number": 6
    },
    {
     "cell_type": "code",
     "collapsed": false,
     "input": [
      "data['BOROUGH'] = data['BOROUGH'].cat.set_categories(['Manhattan','Brooklyn','Queens','Bronx','Staten Island'])"
     ],
     "language": "python",
     "metadata": {},
     "outputs": [],
     "prompt_number": 7
    },
    {
     "cell_type": "code",
     "collapsed": false,
     "input": [
      "data.groupby('BOROUGH').size()"
     ],
     "language": "python",
     "metadata": {},
     "outputs": [
      {
       "metadata": {},
       "output_type": "pyout",
       "prompt_number": 8,
       "text": [
        "BOROUGH\n",
        "Manhattan        210206\n",
        "Brooklyn         138416\n",
        "Queens            78938\n",
        "Bronx            207816\n",
        "Staten Island     26121\n",
        "dtype: int64"
       ]
      }
     ],
     "prompt_number": 8
    },
    {
     "cell_type": "code",
     "collapsed": false,
     "input": [
      "def selectAndAnnotateActiveFeatures(geojson, bbls_dict):\n",
      "    \"\"\"Searches the geojson object for the given BBLs in the dict and when it finds them, add the ActiveCount property and put it into a list for return \"\"\"\n",
      "    active_features = []\n",
      "    for feature in geojson.features:\n",
      "        bbl = int(feature.properties['BBL'])\n",
      "        if bbl in bbls_dict:\n",
      "            feature.properties['ActiveCount'] = bbls_dict[bbl]\n",
      "            active_features.append(feature)\n",
      "    return active_features"
     ],
     "language": "python",
     "metadata": {},
     "outputs": [],
     "prompt_number": 9
    },
    {
     "cell_type": "code",
     "collapsed": false,
     "input": [
      "most_active_bbls = data[data['RESULT'].isin(['Active Rat Signs']) & data['BLOCK'].notnull()].BBL.value_counts()"
     ],
     "language": "python",
     "metadata": {},
     "outputs": [],
     "prompt_number": 10
    },
    {
     "cell_type": "code",
     "collapsed": false,
     "input": [
      "most_active_bbls = most_active_bbls[most_active_bbls >= activity_cutoff]"
     ],
     "language": "python",
     "metadata": {},
     "outputs": [],
     "prompt_number": 11
    },
    {
     "cell_type": "code",
     "collapsed": false,
     "input": [
      "most_active = data[data['BBL'].isin(most_active_bbls.index)]"
     ],
     "language": "python",
     "metadata": {},
     "outputs": [],
     "prompt_number": 12
    },
    {
     "cell_type": "code",
     "collapsed": false,
     "input": [
      "active_features = []"
     ],
     "language": "python",
     "metadata": {},
     "outputs": [],
     "prompt_number": 13
    },
    {
     "cell_type": "code",
     "collapsed": false,
     "input": [
      "geojson_files = ['shapefiles/manhattan.geojson','shapefiles/bronx.geojson','shapefiles/brooklyn.geojson','shapefiles/queens.geojson','shapefiles/staten_island.geojson']"
     ],
     "language": "python",
     "metadata": {},
     "outputs": [],
     "prompt_number": 14
    },
    {
     "cell_type": "code",
     "collapsed": false,
     "input": [
      "for file_name in geojson_files:\n",
      "    file_handle = open(file_name,'r')\n",
      "    geojson = gj.load(file_handle)\n",
      "    curr_active_features = selectAndAnnotateActiveFeatures(geojson, most_active_bbls)\n",
      "    print file_name + \": \" + str(len(curr_active_features))\n",
      "    active_features += curr_active_features\n",
      "    del geojson\n",
      "    file_handle.close()"
     ],
     "language": "python",
     "metadata": {},
     "outputs": [
      {
       "output_type": "stream",
       "stream": "stdout",
       "text": [
        "shapefiles/manhattan.geojson: 1438\n",
        "shapefiles/bronx.geojson: 2260"
       ]
      },
      {
       "output_type": "stream",
       "stream": "stdout",
       "text": [
        "\n",
        "shapefiles/brooklyn.geojson: 869"
       ]
      },
      {
       "output_type": "stream",
       "stream": "stdout",
       "text": [
        "\n",
        "shapefiles/queens.geojson: 156"
       ]
      },
      {
       "output_type": "stream",
       "stream": "stdout",
       "text": [
        "\n",
        "shapefiles/staten_island.geojson: 28"
       ]
      },
      {
       "output_type": "stream",
       "stream": "stdout",
       "text": [
        "\n"
       ]
      }
     ],
     "prompt_number": 15
    },
    {
     "cell_type": "code",
     "collapsed": false,
     "input": [
      "len(active_features)"
     ],
     "language": "python",
     "metadata": {},
     "outputs": [
      {
       "metadata": {},
       "output_type": "pyout",
       "prompt_number": 16,
       "text": [
        "4751"
       ]
      }
     ],
     "prompt_number": 16
    },
    {
     "cell_type": "code",
     "collapsed": false,
     "input": [
      "active = gj.FeatureCollection(active_features)"
     ],
     "language": "python",
     "metadata": {},
     "outputs": [],
     "prompt_number": 17
    },
    {
     "cell_type": "code",
     "collapsed": false,
     "input": [
      "active_file = open('shapefiles/most_active.geojson','w')"
     ],
     "language": "python",
     "metadata": {},
     "outputs": [],
     "prompt_number": 18
    },
    {
     "cell_type": "code",
     "collapsed": false,
     "input": [
      "gj.dump(active, active_file)"
     ],
     "language": "python",
     "metadata": {},
     "outputs": [],
     "prompt_number": 19
    },
    {
     "cell_type": "code",
     "collapsed": false,
     "input": [
      "active_file.close()"
     ],
     "language": "python",
     "metadata": {},
     "outputs": [],
     "prompt_number": 20
    },
    {
     "cell_type": "code",
     "collapsed": false,
     "input": [],
     "language": "python",
     "metadata": {},
     "outputs": [],
     "prompt_number": 20
    }
   ],
   "metadata": {}
  }
 ]
}