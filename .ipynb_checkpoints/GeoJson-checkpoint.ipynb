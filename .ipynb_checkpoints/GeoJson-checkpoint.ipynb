{
 "metadata": {
  "name": "",
  "signature": "sha256:0fb914a068356c2cc13d3125da49f52b298fa273ae0037d0766b119c079a01f3"
 },
 "nbformat": 3,
 "nbformat_minor": 0,
 "worksheets": [
  {
   "cells": [
    {
     "cell_type": "code",
     "collapsed": false,
     "input": [
      "import pandas as pd\n",
      "import numpy as np\n",
      "import matplotlib.pyplot as plt\n",
      "import json\n",
      "import geojson\n",
      "import shapefile\n",
      "from pandas.io.json import json_normalize"
     ],
     "language": "python",
     "metadata": {},
     "outputs": [],
     "prompt_number": 3
    },
    {
     "cell_type": "code",
     "collapsed": false,
     "input": [
      "sf = shapefile.Reader(\"shapefiles/BXMapPLUTO\")"
     ],
     "language": "python",
     "metadata": {},
     "outputs": [],
     "prompt_number": 4
    },
    {
     "cell_type": "code",
     "collapsed": false,
     "input": [
      "records = sf.shapeRecords()"
     ],
     "language": "python",
     "metadata": {},
     "outputs": [],
     "prompt_number": 5
    },
    {
     "cell_type": "code",
     "collapsed": false,
     "input": [
      "for idx, val in enumerate(sf.fields):\n",
      "    key = val[0]\n",
      "    if idx > 0:\n",
      "        value = records[500].record[idx-1]\n",
      "    else:\n",
      "        value = ''\n",
      "    print str(idx-1) + \" - \" + key + \": \" + str(value)"
     ],
     "language": "python",
     "metadata": {},
     "outputs": [
      {
       "output_type": "stream",
       "stream": "stdout",
       "text": [
        "-1 - DeletionFlag: \n",
        "0 - Borough: BX\n",
        "1 - Block: 2283\n",
        "2 - Lot: 116\n",
        "3 - CD: 201\n",
        "4 - CT2010: 39\n",
        "5 - CB2010: 5001\n",
        "6 - SchoolDist: 07\n",
        "7 - Council: 8\n",
        "8 - ZipCode: 10454\n",
        "9 - FireComp: E060\n",
        "10 - PolicePrct: 40\n",
        "11 - Address: 414 EAST 139 STREET\n",
        "12 - ZoneDist1: R6\n",
        "13 - ZoneDist2:          \n",
        "14 - ZoneDist3:          \n",
        "15 - ZoneDist4:          \n",
        "16 - Overlay1:     \n",
        "17 - Overlay2:     \n",
        "18 - SPDist1:       \n",
        "19 - SPDist2:       \n",
        "20 - LtdHeight:      \n",
        "21 - AllZoning1: R6\n",
        "22 - AllZoning2:                      \n",
        "23 - SplitZone: N\n",
        "24 - BldgClass: B2\n",
        "25 - LandUse: 01\n",
        "26 - Easements: 0\n",
        "27 - OwnerType:  \n",
        "28 - OwnerName: ALVEAR, AMADA R.\n",
        "29 - LotArea: 3190\n",
        "30 - BldgArea: 3120\n",
        "31 - ComArea: 0\n",
        "32 - ResArea: 3120\n",
        "33 - OfficeArea: 0\n",
        "34 - RetailArea: 0\n",
        "35 - GarageArea: 0\n",
        "36 - StrgeArea: 0\n",
        "37 - FactryArea: 0\n",
        "38 - OtherArea: 0\n",
        "39 - AreaSource: 7\n",
        "40 - NumBldgs: 1\n",
        "41 - NumFloors: 2.00000000000e+000\n",
        "42 - UnitsRes: 2\n",
        "43 - UnitsTotal: 2\n",
        "44 - LotFront: 4.55500000000e+001\n",
        "45 - LotDepth: 7.00000000000e+001\n",
        "46 - BldgFront: 3.00000000000e+001\n",
        "47 - BldgDepth: 3.45000000000e+001\n",
        "48 - Ext:   \n",
        "49 - ProxCode: 2\n",
        "50 - IrrLotCode: N\n",
        "51 - LotType: 5\n",
        "52 - BsmtCode: 2\n",
        "53 - AssessLand: 1.65600000000e+004\n",
        "54 - AssessTot: 2.15400000000e+004\n",
        "55 - ExemptLand: 1.60000000000e+003\n",
        "56 - ExemptTot: 1.60000000000e+003\n",
        "57 - YearBuilt: 2001\n",
        "58 - BuiltCode:  \n",
        "59 - YearAlter1: 0\n",
        "60 - YearAlter2: 0\n",
        "61 - HistDist:                                         \n",
        "62 - Landmark:                                    \n",
        "63 - BuiltFAR: 9.80000000000e-001\n",
        "64 - ResidFAR: 2.43000000000e+000\n",
        "65 - CommFAR: 0.00000000000e+000\n",
        "66 - FacilFAR: 4.80000000000e+000\n",
        "67 - BoroCode: 2\n",
        "68 - BBL: 2.02283011600e+009\n",
        "69 - CondoNo: 0\n",
        "70 - Tract2010: 0039\n",
        "71 - XCoord: 1005871\n",
        "72 - YCoord: 234164\n",
        "73 - ZoneMap: 6a\n",
        "74 - ZMCode:  \n",
        "75 - Sanborn: 29S 027\n",
        "76 - TaxMap: 20901\n",
        "77 - EDesigNum:      \n",
        "78 - APPBBL: 2.02283001600e+009\n",
        "79 - APPDate: 03/19/2002\n",
        "80 - PLUTOMapID: 1\n",
        "81 - Version: 14v1\n",
        "82 - MAPPLUTO_F: 0\n",
        "83 - SHAPE_Leng: 2.11942248633e+002\n",
        "84 - SHAPE_Area: 2.74017538473e+003\n"
       ]
      }
     ],
     "prompt_number": 6
    },
    {
     "cell_type": "code",
     "collapsed": false,
     "input": [
      "records[500].record[68]"
     ],
     "language": "python",
     "metadata": {},
     "outputs": [
      {
       "metadata": {},
       "output_type": "pyout",
       "prompt_number": 7,
       "text": [
        "'2.02283011600e+009'"
       ]
      }
     ],
     "prompt_number": 7
    },
    {
     "cell_type": "code",
     "collapsed": false,
     "input": [
      "for rec in records:\n",
      "    if float(rec.record[68]) == 2033140051:\n",
      "        print rec\n",
      "        break"
     ],
     "language": "python",
     "metadata": {},
     "outputs": [
      {
       "output_type": "stream",
       "stream": "stdout",
       "text": [
        "<shapefile._ShapeRecord instance at 0x1244c57a0>\n"
       ]
      }
     ],
     "prompt_number": 8
    },
    {
     "cell_type": "code",
     "collapsed": false,
     "input": [
      "def findRecordByBBL(records,bbl):\n",
      "    \"Searches a list of shapefile records and returns the first one with the given BBL code\"\n",
      "    for rec in records:\n",
      "        if float(rec.record[68]) == bbl:\n",
      "            return rec"
     ],
     "language": "python",
     "metadata": {},
     "outputs": [],
     "prompt_number": 9
    },
    {
     "cell_type": "code",
     "collapsed": false,
     "input": [
      "myRec = findRecordByBBL(records, 2033140051)"
     ],
     "language": "python",
     "metadata": {},
     "outputs": [],
     "prompt_number": 10
    },
    {
     "cell_type": "code",
     "collapsed": false,
     "input": [
      "myRec"
     ],
     "language": "python",
     "metadata": {},
     "outputs": [
      {
       "metadata": {},
       "output_type": "pyout",
       "prompt_number": 11,
       "text": [
        "<shapefile._ShapeRecord instance at 0x1244c57a0>"
       ]
      }
     ],
     "prompt_number": 11
    },
    {
     "cell_type": "code",
     "collapsed": false,
     "input": [
      "myRec.shape.__geo_interface__"
     ],
     "language": "python",
     "metadata": {},
     "outputs": [
      {
       "metadata": {},
       "output_type": "pyout",
       "prompt_number": 12,
       "text": [
        "{'coordinates': (((1013669.7046000063, 255356.84039999545),\n",
        "   (1013584.3473999947, 255208.36980000138),\n",
        "   (1013440.4399999976, 255289.46799999475),\n",
        "   (1013520.349999994, 255435.51000000536),\n",
        "   (1013669.7046000063, 255356.84039999545)),),\n",
        " 'type': 'Polygon'}"
       ]
      }
     ],
     "prompt_number": 12
    },
    {
     "cell_type": "code",
     "collapsed": false,
     "input": [],
     "language": "python",
     "metadata": {},
     "outputs": [],
     "prompt_number": 12
    },
    {
     "cell_type": "code",
     "collapsed": false,
     "input": [],
     "language": "python",
     "metadata": {},
     "outputs": [],
     "prompt_number": 12
    }
   ],
   "metadata": {}
  }
 ]
}