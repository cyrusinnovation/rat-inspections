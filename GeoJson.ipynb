{
 "metadata": {
  "name": "",
  "signature": "sha256:b307cb724620de2450284785bd7332aebde37a071dca5de9282d30e11a59081d"
 },
 "nbformat": 3,
 "nbformat_minor": 0,
 "worksheets": [
  {
   "cells": [
    {
     "cell_type": "code",
     "collapsed": false,
     "input": [
      "import pandas as pd\n",
      "import numpy as np\n",
      "import matplotlib.pyplot as plt\n",
      "import json\n",
      "import geojson as gj\n",
      "import shapefile\n",
      "from pandas.io.json import json_normalize"
     ],
     "language": "python",
     "metadata": {},
     "outputs": [],
     "prompt_number": 2
    },
    {
     "cell_type": "code",
     "collapsed": false,
     "input": [
      "def findRecordByBBL(records,bbl):\n",
      "    \"Searches a list of shapefile records and returns the first one with the given BBL code\"\n",
      "    for rec in records:\n",
      "        if float(rec.record[68]) == bbl:\n",
      "            return rec"
     ],
     "language": "python",
     "metadata": {},
     "outputs": [],
     "prompt_number": 9
    },
    {
     "cell_type": "code",
     "collapsed": false,
     "input": [
      "mfile = open('shapefiles/manhattan.geojson','r')"
     ],
     "language": "python",
     "metadata": {},
     "outputs": [],
     "prompt_number": 5
    },
    {
     "cell_type": "code",
     "collapsed": false,
     "input": [
      "manhattan = gj.load(mfile)"
     ],
     "language": "python",
     "metadata": {},
     "outputs": [],
     "prompt_number": 6
    },
    {
     "cell_type": "code",
     "collapsed": false,
     "input": [
      "manhattan.features[0]"
     ],
     "language": "python",
     "metadata": {},
     "outputs": [
      {
       "metadata": {},
       "output_type": "pyout",
       "prompt_number": 11,
       "text": [
        "{\"geometry\": {\"coordinates\": [[[-74.00560518702275, 40.73898694292105], [-74.00585728045847, 40.73898689140005], [-74.00591254631273, 40.738986902848694], [-74.0059739091939, 40.73898691450365], [-74.00602020199689, 40.73898692307206], [-74.00601876701805, 40.739032485480664], [-74.00601772856108, 40.73906542255831], [-74.0059246015609, 40.73906540487987], [-74.00583797142414, 40.739065388443784], [-74.00559438308967, 40.73906552240116], [-74.00560518702275, 40.73898694292105]]], \"type\": \"Polygon\"}, \"id\": null, \"properties\": {\"APPBBL\": 0.0, \"APPDate\": null, \"Address\": \"641 HUDSON STREET\", \"AllZoning1\": \"C1-6\", \"AllZoning2\": \"R6\", \"AreaSource\": \"7\", \"AssessLand\": 360000.0, \"AssessTot\": 1398150.0, \"BBL\": 1006270013.0, \"BldgArea\": 13010, \"BldgClass\": \"C7\", \"BldgDepth\": 102.0, \"BldgFront\": 29.0, \"Block\": 627, \"BoroCode\": 1, \"Borough\": \"MN\", \"BsmtCode\": \"2\", \"BuiltCode\": null, \"BuiltFAR\": 4.05, \"CB2010\": \"4003\", \"CD\": 102, \"CT2010\": \"79\", \"ComArea\": 2000, \"CommFAR\": 2.0, \"CondoNo\": 0, \"Council\": 3, \"EDesigNum\": null, \"Easements\": 0, \"ExemptLand\": 0.0, \"ExemptTot\": 0.0, \"Ext\": \"E\", \"FacilFAR\": 6.5, \"FactryArea\": 0, \"FireComp\": \"L005\", \"GarageArea\": 0, \"HistDist\": \"Gansevoort Market\", \"IrrLotCode\": \"Y\", \"LandUse\": \"04\", \"Landmark\": null, \"Lot\": 13, \"LotArea\": 3212, \"LotDepth\": 112.33, \"LotFront\": 29.17, \"LotType\": \"5\", \"LtdHeight\": null, \"MAPPLUTO_F\": 0, \"NumBldgs\": 1, \"NumFloors\": 5.0, \"OfficeArea\": 0, \"OtherArea\": 0, \"Overlay1\": null, \"Overlay2\": null, \"OwnerName\": \"FELIX BERNARDO D/B/A\", \"OwnerType\": null, \"PLUTOMapID\": \"1\", \"PolicePrct\": 6, \"ProxCode\": \"3\", \"ResArea\": 11010, \"ResidFAR\": 3.44, \"RetailArea\": 2000, \"SHAPE_Area\": 3323.072885, \"SHAPE_Leng\": 289.718398, \"SPDist1\": null, \"SPDist2\": null, \"Sanborn\": \"103 035\", \"SchoolDist\": \"02\", \"SplitZone\": \"Y\", \"StrgeArea\": 0, \"TaxMap\": \"10210\", \"Tract2010\": \"0079\", \"UnitsRes\": 16, \"UnitsTotal\": 17, \"Version\": \"14v1\", \"XCoord\": 982640, \"YCoord\": 208523, \"YearAlter1\": 0, \"YearAlter2\": 0, \"YearBuilt\": 1910, \"ZMCode\": null, \"ZipCode\": 10014, \"ZoneDist1\": \"C1-6\", \"ZoneDist2\": \"R6\", \"ZoneDist3\": null, \"ZoneDist4\": null, \"ZoneMap\": \"8b\"}, \"type\": \"Feature\"}"
       ]
      }
     ],
     "prompt_number": 11
    },
    {
     "cell_type": "code",
     "collapsed": false,
     "input": [
      "test_coll = gj.FeatureCollection([manhattan.features[0],manhattan.features[2]])"
     ],
     "language": "python",
     "metadata": {},
     "outputs": [],
     "prompt_number": 13
    },
    {
     "cell_type": "code",
     "collapsed": false,
     "input": [
      "test_coll << manhattan.features[1]"
     ],
     "language": "python",
     "metadata": {},
     "outputs": [
      {
       "ename": "TypeError",
       "evalue": "unsupported operand type(s) for <<: 'FeatureCollection' and 'Feature'",
       "output_type": "pyerr",
       "traceback": [
        "\u001b[0;31m---------------------------------------------------------------------------\u001b[0m\n\u001b[0;31mTypeError\u001b[0m                                 Traceback (most recent call last)",
        "\u001b[0;32m<ipython-input-18-fdd54b057b0e>\u001b[0m in \u001b[0;36m<module>\u001b[0;34m()\u001b[0m\n\u001b[0;32m----> 1\u001b[0;31m \u001b[0mtest_coll\u001b[0m \u001b[0;34m<<\u001b[0m \u001b[0mmanhattan\u001b[0m\u001b[0;34m.\u001b[0m\u001b[0mfeatures\u001b[0m\u001b[0;34m[\u001b[0m\u001b[0;36m1\u001b[0m\u001b[0;34m]\u001b[0m\u001b[0;34m\u001b[0m\u001b[0m\n\u001b[0m",
        "\u001b[0;31mTypeError\u001b[0m: unsupported operand type(s) for <<: 'FeatureCollection' and 'Feature'"
       ]
      }
     ],
     "prompt_number": 18
    },
    {
     "cell_type": "code",
     "collapsed": false,
     "input": [
      "myFeatures = [manhattan.features[0],manhattan.features[2]]"
     ],
     "language": "python",
     "metadata": {},
     "outputs": [],
     "prompt_number": 19
    },
    {
     "cell_type": "code",
     "collapsed": false,
     "input": [
      "myFeatures.append(manhattan.features[1])"
     ],
     "language": "python",
     "metadata": {},
     "outputs": [],
     "prompt_number": 21
    },
    {
     "cell_type": "code",
     "collapsed": false,
     "input": [
      "myFeatures"
     ],
     "language": "python",
     "metadata": {},
     "outputs": [
      {
       "metadata": {},
       "output_type": "pyout",
       "prompt_number": 22,
       "text": [
        "[{\"geometry\": {\"coordinates\": [[[-74.00560518702275, 40.73898694292105], [-74.00585728045847, 40.73898689140005], [-74.00591254631273, 40.738986902848694], [-74.0059739091939, 40.73898691450365], [-74.00602020199689, 40.73898692307206], [-74.00601876701805, 40.739032485480664], [-74.00601772856108, 40.73906542255831], [-74.0059246015609, 40.73906540487987], [-74.00583797142414, 40.739065388443784], [-74.00559438308967, 40.73906552240116], [-74.00560518702275, 40.73898694292105]]], \"type\": \"Polygon\"}, \"id\": null, \"properties\": {\"APPBBL\": 0.0, \"APPDate\": null, \"Address\": \"641 HUDSON STREET\", \"AllZoning1\": \"C1-6\", \"AllZoning2\": \"R6\", \"AreaSource\": \"7\", \"AssessLand\": 360000.0, \"AssessTot\": 1398150.0, \"BBL\": 1006270013.0, \"BldgArea\": 13010, \"BldgClass\": \"C7\", \"BldgDepth\": 102.0, \"BldgFront\": 29.0, \"Block\": 627, \"BoroCode\": 1, \"Borough\": \"MN\", \"BsmtCode\": \"2\", \"BuiltCode\": null, \"BuiltFAR\": 4.05, \"CB2010\": \"4003\", \"CD\": 102, \"CT2010\": \"79\", \"ComArea\": 2000, \"CommFAR\": 2.0, \"CondoNo\": 0, \"Council\": 3, \"EDesigNum\": null, \"Easements\": 0, \"ExemptLand\": 0.0, \"ExemptTot\": 0.0, \"Ext\": \"E\", \"FacilFAR\": 6.5, \"FactryArea\": 0, \"FireComp\": \"L005\", \"GarageArea\": 0, \"HistDist\": \"Gansevoort Market\", \"IrrLotCode\": \"Y\", \"LandUse\": \"04\", \"Landmark\": null, \"Lot\": 13, \"LotArea\": 3212, \"LotDepth\": 112.33, \"LotFront\": 29.17, \"LotType\": \"5\", \"LtdHeight\": null, \"MAPPLUTO_F\": 0, \"NumBldgs\": 1, \"NumFloors\": 5.0, \"OfficeArea\": 0, \"OtherArea\": 0, \"Overlay1\": null, \"Overlay2\": null, \"OwnerName\": \"FELIX BERNARDO D/B/A\", \"OwnerType\": null, \"PLUTOMapID\": \"1\", \"PolicePrct\": 6, \"ProxCode\": \"3\", \"ResArea\": 11010, \"ResidFAR\": 3.44, \"RetailArea\": 2000, \"SHAPE_Area\": 3323.072885, \"SHAPE_Leng\": 289.718398, \"SPDist1\": null, \"SPDist2\": null, \"Sanborn\": \"103 035\", \"SchoolDist\": \"02\", \"SplitZone\": \"Y\", \"StrgeArea\": 0, \"TaxMap\": \"10210\", \"Tract2010\": \"0079\", \"UnitsRes\": 16, \"UnitsTotal\": 17, \"Version\": \"14v1\", \"XCoord\": 982640, \"YCoord\": 208523, \"YearAlter1\": 0, \"YearAlter2\": 0, \"YearBuilt\": 1910, \"ZMCode\": null, \"ZipCode\": 10014, \"ZoneDist1\": \"C1-6\", \"ZoneDist2\": \"R6\", \"ZoneDist3\": null, \"ZoneDist4\": null, \"ZoneMap\": \"8b\"}, \"type\": \"Feature\"},\n",
        " {\"geometry\": {\"coordinates\": [[[-74.00186126782934, 40.725923887990014], [-74.00191198240776, 40.725862542939595], [-74.00213762099732, 40.72597319549381], [-74.00208690654244, 40.726034542289554], [-74.00186126782934, 40.725923887990014]]], \"type\": \"Polygon\"}, \"id\": null, \"properties\": {\"APPBBL\": 0.0, \"APPDate\": null, \"Address\": \"111 THOMPSON STREET\", \"AllZoning1\": \"R7-2\", \"AllZoning2\": null, \"AreaSource\": \"7\", \"AssessLand\": 38039.0, \"AssessTot\": 142369.0, \"BBL\": 1005030024.0, \"BldgArea\": 6875, \"BldgClass\": \"C7\", \"BldgDepth\": 54.0, \"BldgFront\": 25.0, \"Block\": 503, \"BoroCode\": 1, \"Borough\": \"MN\", \"BsmtCode\": \"2\", \"BuiltCode\": \"E\", \"BuiltFAR\": 3.67, \"CB2010\": \"2001\", \"CD\": 102, \"CT2010\": \"49\", \"ComArea\": 600, \"CommFAR\": 0.0, \"CondoNo\": 0, \"Council\": 3, \"EDesigNum\": null, \"Easements\": 0, \"ExemptLand\": 0.0, \"ExemptTot\": 0.0, \"Ext\": null, \"FacilFAR\": 6.5, \"FactryArea\": 0, \"FireComp\": \"L020\", \"GarageArea\": 0, \"HistDist\": null, \"IrrLotCode\": \"N\", \"LandUse\": \"04\", \"Landmark\": null, \"Lot\": 24, \"LotArea\": 1875, \"LotDepth\": 75.0, \"LotFront\": 25.0, \"LotType\": \"5\", \"LtdHeight\": null, \"MAPPLUTO_F\": 0, \"NumBldgs\": 1, \"NumFloors\": 5.0, \"OfficeArea\": 0, \"OtherArea\": 0, \"Overlay1\": null, \"Overlay2\": null, \"OwnerName\": \"ANICITO DANIEL\", \"OwnerType\": null, \"PLUTOMapID\": \"1\", \"PolicePrct\": 1, \"ProxCode\": \"3\", \"ResArea\": 6275, \"ResidFAR\": 3.44, \"RetailArea\": 600, \"SHAPE_Area\": 1964.491415, \"SHAPE_Leng\": 201.62315, \"SPDist1\": null, \"SPDist2\": null, \"Sanborn\": \"101N071\", \"SchoolDist\": \"02\", \"SplitZone\": \"N\", \"StrgeArea\": 0, \"TaxMap\": \"10206\", \"Tract2010\": \"0049\", \"UnitsRes\": 8, \"UnitsTotal\": 9, \"Version\": \"14v1\", \"XCoord\": 983695, \"YCoord\": 203759, \"YearAlter1\": 1988, \"YearAlter2\": 0, \"YearBuilt\": 1900, \"ZMCode\": null, \"ZipCode\": 10012, \"ZoneDist1\": \"R7-2\", \"ZoneDist2\": null, \"ZoneDist3\": null, \"ZoneDist4\": null, \"ZoneMap\": \"12a\"}, \"type\": \"Feature\"},\n",
        " {\"geometry\": {\"coordinates\": [[[-74.00577017344459, 40.73230413417247], [-74.00570662847538, 40.73210763541966], [-74.00568745021509, 40.732048333200396], [-74.00574012506645, 40.73205273646684], [-74.00579608556001, 40.73205737065215], [-74.00585274244848, 40.73206208492177], [-74.00591559970019, 40.73206731431002], [-74.00597004621325, 40.732071844187914], [-74.00603415264823, 40.73207718543269], [-74.00602886893824, 40.73211042358979], [-74.00596066498177, 40.732104749341076], [-74.00591480455375, 40.73210093869272], [-74.00591294393827, 40.732114577473865], [-74.00589596078781, 40.73211320816317], [-74.00582813353121, 40.73210749264534], [-74.00579895562328, 40.73230741819785], [-74.00577017344459, 40.73230413417247]]], \"type\": \"Polygon\"}, \"id\": null, \"properties\": {\"APPBBL\": 0.0, \"APPDate\": null, \"Address\": null, \"AllZoning1\": null, \"AllZoning2\": null, \"AreaSource\": \"0\", \"AssessLand\": 0.0, \"AssessTot\": 0.0, \"BBL\": 1005850019.0, \"BldgArea\": 0, \"BldgClass\": null, \"BldgDepth\": 0.0, \"BldgFront\": 0.0, \"Block\": 585, \"BoroCode\": 1, \"Borough\": \"MN\", \"BsmtCode\": null, \"BuiltCode\": null, \"BuiltFAR\": 0.0, \"CB2010\": null, \"CD\": 102, \"CT2010\": null, \"ComArea\": 0, \"CommFAR\": 0.0, \"CondoNo\": 0, \"Council\": 0, \"EDesigNum\": null, \"Easements\": 0, \"ExemptLand\": 0.0, \"ExemptTot\": 0.0, \"Ext\": null, \"FacilFAR\": 0.0, \"FactryArea\": 0, \"FireComp\": null, \"GarageArea\": 0, \"HistDist\": \"Greenwich Village\", \"IrrLotCode\": null, \"LandUse\": null, \"Landmark\": null, \"Lot\": 19, \"LotArea\": 0, \"LotDepth\": 0.0, \"LotFront\": 0.0, \"LotType\": null, \"LtdHeight\": null, \"MAPPLUTO_F\": 0, \"NumBldgs\": 0, \"NumFloors\": 0.0, \"OfficeArea\": 0, \"OtherArea\": 0, \"Overlay1\": null, \"Overlay2\": null, \"OwnerName\": null, \"OwnerType\": null, \"PLUTOMapID\": \"3\", \"PolicePrct\": 0, \"ProxCode\": null, \"ResArea\": 0, \"ResidFAR\": 0.0, \"RetailArea\": 0, \"SHAPE_Area\": 3013.371974, \"SHAPE_Leng\": 346.629507, \"SPDist1\": null, \"SPDist2\": null, \"Sanborn\": \"100 000\", \"SchoolDist\": null, \"SplitZone\": null, \"StrgeArea\": 0, \"TaxMap\": \"1\", \"Tract2010\": \"0000\", \"UnitsRes\": 0, \"UnitsTotal\": 0, \"Version\": \"14v1\", \"XCoord\": 0, \"YCoord\": 0, \"YearAlter1\": 0, \"YearAlter2\": 0, \"YearBuilt\": 0, \"ZMCode\": null, \"ZipCode\": 0, \"ZoneDist1\": null, \"ZoneDist2\": null, \"ZoneDist3\": null, \"ZoneDist4\": null, \"ZoneMap\": \"12a\"}, \"type\": \"Feature\"}]"
       ]
      }
     ],
     "prompt_number": 22
    },
    {
     "cell_type": "code",
     "collapsed": false,
     "input": [
      "manhattan.features[0].properties['BBL']"
     ],
     "language": "python",
     "metadata": {},
     "outputs": [
      {
       "metadata": {},
       "output_type": "pyout",
       "prompt_number": 25,
       "text": [
        "1006270013.0"
       ]
      }
     ],
     "prompt_number": 25
    },
    {
     "cell_type": "code",
     "collapsed": false,
     "input": [],
     "language": "python",
     "metadata": {},
     "outputs": []
    }
   ],
   "metadata": {}
  }
 ]
}